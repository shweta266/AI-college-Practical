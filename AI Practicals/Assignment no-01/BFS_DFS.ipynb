{
 "cells": [
  {
   "cell_type": "code",
   "execution_count": 1,
   "metadata": {},
   "outputs": [
    {
     "name": "stdout",
     "output_type": "stream",
     "text": [
      "BFS Traversal:\n",
      "A B C D E F B D E F C F D E F F \n",
      "DFS Traversal:\n",
      "A B D E F C "
     ]
    }
   ],
   "source": [
    "# Sample graph represented as a dictionary\n",
    "graph = {\n",
    "    'A': ['B', 'C'],\n",
    "    'B': ['D', 'E'],\n",
    "    'C': ['F'],\n",
    "    'D': [],\n",
    "    'E': ['F'],\n",
    "    'F': []\n",
    "}\n",
    "\n",
    "# BFS algorithm in Python\n",
    "from collections import deque\n",
    "\n",
    "def bfs(graph, start):\n",
    "    visited, queue = set(), deque([start])\n",
    "    visited.add(start)\n",
    "\n",
    "    while queue:\n",
    "        vertex = queue.popleft()\n",
    "        print(vertex, end=' ')\n",
    "        for neighbour in graph[vertex]:\n",
    "            if neighbour not in visited:\n",
    "                visited.add(neighbour)\n",
    "                queue.append(neighbour)\n",
    "\n",
    "# DFS algorithm in Python\n",
    "def dfs(graph, start, visited=None):\n",
    "    if visited is None:\n",
    "        visited = set()\n",
    "    visited.add(start)\n",
    "    print(start, end=' ')\n",
    "    for neighbour in graph[start]:\n",
    "        if neighbour not in visited:\n",
    "            dfs(graph, neighbour, visited)\n",
    "\n",
    "# BFS algorithm driver code\n",
    "visited = set()\n",
    "print(\"BFS Traversal:\")\n",
    "for node in graph:\n",
    "    if node not in visited:\n",
    "        bfs(graph, node)\n",
    "\n",
    "# DFS algorithm driver code\n",
    "visited = set()\n",
    "print(\"\\nDFS Traversal:\")\n",
    "for node in graph:\n",
    "    if node not in visited:\n",
    "        dfs(graph, node, visited)"
   ]
  }
 ],
 "metadata": {
  "kernelspec": {
   "display_name": "Python 3",
   "language": "python",
   "name": "python3"
  },
  "language_info": {
   "codemirror_mode": {
    "name": "ipython",
    "version": 3
   },
   "file_extension": ".py",
   "mimetype": "text/x-python",
   "name": "python",
   "nbconvert_exporter": "python",
   "pygments_lexer": "ipython3",
   "version": "3.10.0"
  },
  "orig_nbformat": 4
 },
 "nbformat": 4,
 "nbformat_minor": 2
}

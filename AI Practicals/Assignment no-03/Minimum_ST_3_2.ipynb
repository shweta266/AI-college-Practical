{
 "cells": [
  {
   "cell_type": "code",
   "execution_count": 7,
   "metadata": {},
   "outputs": [],
   "source": [
    "class DisjointSet:\n",
    "    def __init__(self, n):\n",
    "        self.parent = list(range(n))\n",
    "        self.rank = [0] * n\n",
    "\n",
    "    def find(self, i):\n",
    "        if self.parent[i] != i:\n",
    "            self.parent[i] = self.find(self.parent[i])\n",
    "        return self.parent[i]\n",
    "\n",
    "    def union(self, i, j):\n",
    "        i_root = self.find(i)\n",
    "        j_root = self.find(j)\n",
    "\n",
    "        if i_root == j_root:\n",
    "            return False\n",
    "\n",
    "        if self.rank[i_root] > self.rank[j_root]:\n",
    "            self.parent[j_root] = i_root\n",
    "        else:\n",
    "            self.parent[i_root] = j_root\n",
    "            if self.rank[i_root] == self.rank[j_root]:\n",
    "                self.rank[j_root] += 1\n",
    "\n",
    "        return True\n",
    "\n",
    "\n",
    "def kruskal_mst(n, edges):\n",
    "    edges = sorted(edges, key=lambda x: x[2])\n",
    "\n",
    "    dsu = DisjointSet(n)\n",
    "\n",
    "    mst = []\n",
    "    for u, v, w in edges:\n",
    "        if dsu.union(u, v):\n",
    "            mst.append((u, v, w))\n",
    "\n",
    "    return mst\n"
   ]
  },
  {
   "cell_type": "code",
   "execution_count": 8,
   "metadata": {},
   "outputs": [
    {
     "name": "stdout",
     "output_type": "stream",
     "text": [
      "[(2, 3, 4), (0, 3, 5), (0, 1, 10)]\n"
     ]
    }
   ],
   "source": [
    "n = 4\n",
    "edges = [(0, 1, 10), (0, 2, 6), (0, 3, 5), (1, 3, 15), (2, 3, 4)]\n",
    "\n",
    "mst = kruskal_mst(n, edges)\n",
    "print(mst)  # [(2, 3, 4), (0, 3, 5), (0, 1, 10)]\n"
   ]
  }
 ],
 "metadata": {
  "kernelspec": {
   "display_name": "Python 3",
   "language": "python",
   "name": "python3"
  },
  "language_info": {
   "codemirror_mode": {
    "name": "ipython",
    "version": 3
   },
   "file_extension": ".py",
   "mimetype": "text/x-python",
   "name": "python",
   "nbconvert_exporter": "python",
   "pygments_lexer": "ipython3",
   "version": "3.10.0"
  },
  "orig_nbformat": 4
 },
 "nbformat": 4,
 "nbformat_minor": 2
}

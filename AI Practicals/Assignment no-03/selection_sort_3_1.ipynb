{
 "cells": [
  {
   "cell_type": "code",
   "execution_count": 1,
   "metadata": {},
   "outputs": [
    {
     "name": "stdout",
     "output_type": "stream",
     "text": [
      "[34, 45, 56, 65, 76, 89]\n"
     ]
    }
   ],
   "source": [
    "def selectionSort(arr):\n",
    "    for i in range(len(arr)):\n",
    "        min = float('-inf')\n",
    "        for j in range(i + 1, len(arr)):\n",
    "            if arr[i] > arr[j]:\n",
    "                arr[i],arr[j] = arr[j], arr[i]\n",
    "    return arr\n",
    "    \n",
    "print(selectionSort([89,56,45,34,65,76]))"
   ]
  }
 ],
 "metadata": {
  "kernelspec": {
   "display_name": "Python 3",
   "language": "python",
   "name": "python3"
  },
  "language_info": {
   "codemirror_mode": {
    "name": "ipython",
    "version": 3
   },
   "file_extension": ".py",
   "mimetype": "text/x-python",
   "name": "python",
   "nbconvert_exporter": "python",
   "pygments_lexer": "ipython3",
   "version": "3.10.0"
  },
  "orig_nbformat": 4
 },
 "nbformat": 4,
 "nbformat_minor": 2
}

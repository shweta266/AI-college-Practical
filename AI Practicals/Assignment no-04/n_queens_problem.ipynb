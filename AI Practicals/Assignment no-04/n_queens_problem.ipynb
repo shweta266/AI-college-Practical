{
  "nbformat": 4,
  "nbformat_minor": 0,
  "metadata": {
    "colab": {
      "provenance": []
    },
    "kernelspec": {
      "name": "python3",
      "display_name": "Python 3"
    },
    "language_info": {
      "name": "python"
    }
  },
  "cells": [
    {
      "cell_type": "code",
      "execution_count": 1,
      "metadata": {
        "colab": {
          "base_uri": "https://localhost:8080/"
        },
        "id": "e28drhAt09Ej",
        "outputId": "a6b54a69-9fd4-426f-fb3d-1119c644e122"
      },
      "outputs": [
        {
          "output_type": "stream",
          "name": "stdout",
          "text": [
            "Enter number of Queens : 4\n",
            "0 1 0 0 \n",
            "0 0 0 1 \n",
            "1 0 0 0 \n",
            "0 0 1 0 \n"
          ]
        }
      ],
      "source": [
        "def issafe(arr,x,y,n):\n",
        "    for row in range(x):\n",
        "        if arr[row][y] ==1:\n",
        "            # Checking column attack\n",
        "            return False\n",
        "    row = x\n",
        "    col = y\n",
        "    #Checking Diagonal Attack\n",
        "    while row>=0 and col>=0:\n",
        "        if arr[row][col]==1:\n",
        "            return False\n",
        "        row-=1\n",
        "        col-=1\n",
        "\n",
        "    row = x\n",
        "    col = y\n",
        "    #Checking Anti Diagonal Attack\n",
        "    while row>=0 and col<n:\n",
        "        if arr[row][col]==1:\n",
        "            return False\n",
        "        row-=1\n",
        "        col+=1\n",
        "\n",
        "    return True\n",
        "\n",
        "def nQueen(arr,x,n):\n",
        "    if x>=n:\n",
        "        return True\n",
        "\n",
        "    for col in range(n):\n",
        "        if issafe(arr,x,col,n):\n",
        "            arr[x][col]=1\n",
        "            if nQueen(arr,x+1,n):\n",
        "                return True\n",
        "            arr[x][col] = 0\n",
        "\n",
        "    return False\n",
        "\n",
        "\n",
        "\n",
        "\n",
        "def main():\n",
        "    n = int(input(\"Enter number of Queens : \"))\n",
        "    arr = [[0]*n for i in range(n)]\n",
        "\n",
        "    if nQueen(arr,0,n):\n",
        "        for i in range(n):\n",
        "            for j in range(n):\n",
        "                print(arr[i][j],end=\" \")\n",
        "            print()\n",
        "\n",
        "if __name__ == '__main__':\n",
        "    main()"
      ]
    }
  ]
}